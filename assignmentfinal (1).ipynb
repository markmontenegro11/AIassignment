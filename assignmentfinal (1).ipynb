{
  "cells": [
    {
      "cell_type": "code",
      "source": [
        "import pandas as pd\n",
        "df = pd.read_csv(\"Finance_Accounting_Dataset.csv\")"
      ],
      "metadata": {
        "id": "BpDktQ9IUt9f"
      },
      "execution_count": null,
      "outputs": []
    },
    {
      "cell_type": "markdown",
      "source": [],
      "metadata": {
        "id": "CLpa4k59UuQJ"
      }
    },
    {
      "cell_type": "code",
      "source": [
        "df.head(4)\n"
      ],
      "metadata": {
        "id": "zLC0LBeyUub3",
        "outputId": "bd0af8aa-094a-433c-abc3-e760031140fa",
        "colab": {
          "base_uri": "https://localhost:8080/",
          "height": 195
        }
      },
      "execution_count": null,
      "outputs": [
        {
          "output_type": "execute_result",
          "data": {
            "text/plain": [
              "     Revenue   Expenses     Profit      Assets  Liabilities  Debt_Ratio  \\\n",
              "0  599342.83  381928.52  217414.31   811256.98    212105.53        0.26   \n",
              "1  472347.14  258180.96  214166.18  1405080.99   1206188.63        0.86   \n",
              "2  629537.71  476363.70  153174.01   920725.26    796792.82        0.87   \n",
              "3  804605.97  575626.76  228979.21  1036227.71    571144.28        0.55   \n",
              "\n",
              "   Market_Cap  Share_Price Industry  Region Company_Size Listing_Status  \n",
              "0  9573953.58       200.16   Retail    Asia        Large        Private  \n",
              "1  4503274.25        57.08   Retail    Asia        Small         Listed  \n",
              "2  8929831.13       140.76  Finance    Asia        Large         Listed  \n",
              "3  5821062.69       114.78   Retail  Africa        Large        Private  "
            ],
            "text/html": [
              "\n",
              "  <div id=\"df-02eb94b2-09ac-4921-9508-fa9a9f026b2e\" class=\"colab-df-container\">\n",
              "    <div>\n",
              "<style scoped>\n",
              "    .dataframe tbody tr th:only-of-type {\n",
              "        vertical-align: middle;\n",
              "    }\n",
              "\n",
              "    .dataframe tbody tr th {\n",
              "        vertical-align: top;\n",
              "    }\n",
              "\n",
              "    .dataframe thead th {\n",
              "        text-align: right;\n",
              "    }\n",
              "</style>\n",
              "<table border=\"1\" class=\"dataframe\">\n",
              "  <thead>\n",
              "    <tr style=\"text-align: right;\">\n",
              "      <th></th>\n",
              "      <th>Revenue</th>\n",
              "      <th>Expenses</th>\n",
              "      <th>Profit</th>\n",
              "      <th>Assets</th>\n",
              "      <th>Liabilities</th>\n",
              "      <th>Debt_Ratio</th>\n",
              "      <th>Market_Cap</th>\n",
              "      <th>Share_Price</th>\n",
              "      <th>Industry</th>\n",
              "      <th>Region</th>\n",
              "      <th>Company_Size</th>\n",
              "      <th>Listing_Status</th>\n",
              "    </tr>\n",
              "  </thead>\n",
              "  <tbody>\n",
              "    <tr>\n",
              "      <th>0</th>\n",
              "      <td>599342.83</td>\n",
              "      <td>381928.52</td>\n",
              "      <td>217414.31</td>\n",
              "      <td>811256.98</td>\n",
              "      <td>212105.53</td>\n",
              "      <td>0.26</td>\n",
              "      <td>9573953.58</td>\n",
              "      <td>200.16</td>\n",
              "      <td>Retail</td>\n",
              "      <td>Asia</td>\n",
              "      <td>Large</td>\n",
              "      <td>Private</td>\n",
              "    </tr>\n",
              "    <tr>\n",
              "      <th>1</th>\n",
              "      <td>472347.14</td>\n",
              "      <td>258180.96</td>\n",
              "      <td>214166.18</td>\n",
              "      <td>1405080.99</td>\n",
              "      <td>1206188.63</td>\n",
              "      <td>0.86</td>\n",
              "      <td>4503274.25</td>\n",
              "      <td>57.08</td>\n",
              "      <td>Retail</td>\n",
              "      <td>Asia</td>\n",
              "      <td>Small</td>\n",
              "      <td>Listed</td>\n",
              "    </tr>\n",
              "    <tr>\n",
              "      <th>2</th>\n",
              "      <td>629537.71</td>\n",
              "      <td>476363.70</td>\n",
              "      <td>153174.01</td>\n",
              "      <td>920725.26</td>\n",
              "      <td>796792.82</td>\n",
              "      <td>0.87</td>\n",
              "      <td>8929831.13</td>\n",
              "      <td>140.76</td>\n",
              "      <td>Finance</td>\n",
              "      <td>Asia</td>\n",
              "      <td>Large</td>\n",
              "      <td>Listed</td>\n",
              "    </tr>\n",
              "    <tr>\n",
              "      <th>3</th>\n",
              "      <td>804605.97</td>\n",
              "      <td>575626.76</td>\n",
              "      <td>228979.21</td>\n",
              "      <td>1036227.71</td>\n",
              "      <td>571144.28</td>\n",
              "      <td>0.55</td>\n",
              "      <td>5821062.69</td>\n",
              "      <td>114.78</td>\n",
              "      <td>Retail</td>\n",
              "      <td>Africa</td>\n",
              "      <td>Large</td>\n",
              "      <td>Private</td>\n",
              "    </tr>\n",
              "  </tbody>\n",
              "</table>\n",
              "</div>\n",
              "    <div class=\"colab-df-buttons\">\n",
              "\n",
              "  <div class=\"colab-df-container\">\n",
              "    <button class=\"colab-df-convert\" onclick=\"convertToInteractive('df-02eb94b2-09ac-4921-9508-fa9a9f026b2e')\"\n",
              "            title=\"Convert this dataframe to an interactive table.\"\n",
              "            style=\"display:none;\">\n",
              "\n",
              "  <svg xmlns=\"http://www.w3.org/2000/svg\" height=\"24px\" viewBox=\"0 -960 960 960\">\n",
              "    <path d=\"M120-120v-720h720v720H120Zm60-500h600v-160H180v160Zm220 220h160v-160H400v160Zm0 220h160v-160H400v160ZM180-400h160v-160H180v160Zm440 0h160v-160H620v160ZM180-180h160v-160H180v160Zm440 0h160v-160H620v160Z\"/>\n",
              "  </svg>\n",
              "    </button>\n",
              "\n",
              "  <style>\n",
              "    .colab-df-container {\n",
              "      display:flex;\n",
              "      gap: 12px;\n",
              "    }\n",
              "\n",
              "    .colab-df-convert {\n",
              "      background-color: #E8F0FE;\n",
              "      border: none;\n",
              "      border-radius: 50%;\n",
              "      cursor: pointer;\n",
              "      display: none;\n",
              "      fill: #1967D2;\n",
              "      height: 32px;\n",
              "      padding: 0 0 0 0;\n",
              "      width: 32px;\n",
              "    }\n",
              "\n",
              "    .colab-df-convert:hover {\n",
              "      background-color: #E2EBFA;\n",
              "      box-shadow: 0px 1px 2px rgba(60, 64, 67, 0.3), 0px 1px 3px 1px rgba(60, 64, 67, 0.15);\n",
              "      fill: #174EA6;\n",
              "    }\n",
              "\n",
              "    .colab-df-buttons div {\n",
              "      margin-bottom: 4px;\n",
              "    }\n",
              "\n",
              "    [theme=dark] .colab-df-convert {\n",
              "      background-color: #3B4455;\n",
              "      fill: #D2E3FC;\n",
              "    }\n",
              "\n",
              "    [theme=dark] .colab-df-convert:hover {\n",
              "      background-color: #434B5C;\n",
              "      box-shadow: 0px 1px 3px 1px rgba(0, 0, 0, 0.15);\n",
              "      filter: drop-shadow(0px 1px 2px rgba(0, 0, 0, 0.3));\n",
              "      fill: #FFFFFF;\n",
              "    }\n",
              "  </style>\n",
              "\n",
              "    <script>\n",
              "      const buttonEl =\n",
              "        document.querySelector('#df-02eb94b2-09ac-4921-9508-fa9a9f026b2e button.colab-df-convert');\n",
              "      buttonEl.style.display =\n",
              "        google.colab.kernel.accessAllowed ? 'block' : 'none';\n",
              "\n",
              "      async function convertToInteractive(key) {\n",
              "        const element = document.querySelector('#df-02eb94b2-09ac-4921-9508-fa9a9f026b2e');\n",
              "        const dataTable =\n",
              "          await google.colab.kernel.invokeFunction('convertToInteractive',\n",
              "                                                    [key], {});\n",
              "        if (!dataTable) return;\n",
              "\n",
              "        const docLinkHtml = 'Like what you see? Visit the ' +\n",
              "          '<a target=\"_blank\" href=https://colab.research.google.com/notebooks/data_table.ipynb>data table notebook</a>'\n",
              "          + ' to learn more about interactive tables.';\n",
              "        element.innerHTML = '';\n",
              "        dataTable['output_type'] = 'display_data';\n",
              "        await google.colab.output.renderOutput(dataTable, element);\n",
              "        const docLink = document.createElement('div');\n",
              "        docLink.innerHTML = docLinkHtml;\n",
              "        element.appendChild(docLink);\n",
              "      }\n",
              "    </script>\n",
              "  </div>\n",
              "\n",
              "\n",
              "<div id=\"df-30c31d81-9cee-485a-9c37-9340881164a2\">\n",
              "  <button class=\"colab-df-quickchart\" onclick=\"quickchart('df-30c31d81-9cee-485a-9c37-9340881164a2')\"\n",
              "            title=\"Suggest charts\"\n",
              "            style=\"display:none;\">\n",
              "\n",
              "<svg xmlns=\"http://www.w3.org/2000/svg\" height=\"24px\"viewBox=\"0 0 24 24\"\n",
              "     width=\"24px\">\n",
              "    <g>\n",
              "        <path d=\"M19 3H5c-1.1 0-2 .9-2 2v14c0 1.1.9 2 2 2h14c1.1 0 2-.9 2-2V5c0-1.1-.9-2-2-2zM9 17H7v-7h2v7zm4 0h-2V7h2v10zm4 0h-2v-4h2v4z\"/>\n",
              "    </g>\n",
              "</svg>\n",
              "  </button>\n",
              "\n",
              "<style>\n",
              "  .colab-df-quickchart {\n",
              "      --bg-color: #E8F0FE;\n",
              "      --fill-color: #1967D2;\n",
              "      --hover-bg-color: #E2EBFA;\n",
              "      --hover-fill-color: #174EA6;\n",
              "      --disabled-fill-color: #AAA;\n",
              "      --disabled-bg-color: #DDD;\n",
              "  }\n",
              "\n",
              "  [theme=dark] .colab-df-quickchart {\n",
              "      --bg-color: #3B4455;\n",
              "      --fill-color: #D2E3FC;\n",
              "      --hover-bg-color: #434B5C;\n",
              "      --hover-fill-color: #FFFFFF;\n",
              "      --disabled-bg-color: #3B4455;\n",
              "      --disabled-fill-color: #666;\n",
              "  }\n",
              "\n",
              "  .colab-df-quickchart {\n",
              "    background-color: var(--bg-color);\n",
              "    border: none;\n",
              "    border-radius: 50%;\n",
              "    cursor: pointer;\n",
              "    display: none;\n",
              "    fill: var(--fill-color);\n",
              "    height: 32px;\n",
              "    padding: 0;\n",
              "    width: 32px;\n",
              "  }\n",
              "\n",
              "  .colab-df-quickchart:hover {\n",
              "    background-color: var(--hover-bg-color);\n",
              "    box-shadow: 0 1px 2px rgba(60, 64, 67, 0.3), 0 1px 3px 1px rgba(60, 64, 67, 0.15);\n",
              "    fill: var(--button-hover-fill-color);\n",
              "  }\n",
              "\n",
              "  .colab-df-quickchart-complete:disabled,\n",
              "  .colab-df-quickchart-complete:disabled:hover {\n",
              "    background-color: var(--disabled-bg-color);\n",
              "    fill: var(--disabled-fill-color);\n",
              "    box-shadow: none;\n",
              "  }\n",
              "\n",
              "  .colab-df-spinner {\n",
              "    border: 2px solid var(--fill-color);\n",
              "    border-color: transparent;\n",
              "    border-bottom-color: var(--fill-color);\n",
              "    animation:\n",
              "      spin 1s steps(1) infinite;\n",
              "  }\n",
              "\n",
              "  @keyframes spin {\n",
              "    0% {\n",
              "      border-color: transparent;\n",
              "      border-bottom-color: var(--fill-color);\n",
              "      border-left-color: var(--fill-color);\n",
              "    }\n",
              "    20% {\n",
              "      border-color: transparent;\n",
              "      border-left-color: var(--fill-color);\n",
              "      border-top-color: var(--fill-color);\n",
              "    }\n",
              "    30% {\n",
              "      border-color: transparent;\n",
              "      border-left-color: var(--fill-color);\n",
              "      border-top-color: var(--fill-color);\n",
              "      border-right-color: var(--fill-color);\n",
              "    }\n",
              "    40% {\n",
              "      border-color: transparent;\n",
              "      border-right-color: var(--fill-color);\n",
              "      border-top-color: var(--fill-color);\n",
              "    }\n",
              "    60% {\n",
              "      border-color: transparent;\n",
              "      border-right-color: var(--fill-color);\n",
              "    }\n",
              "    80% {\n",
              "      border-color: transparent;\n",
              "      border-right-color: var(--fill-color);\n",
              "      border-bottom-color: var(--fill-color);\n",
              "    }\n",
              "    90% {\n",
              "      border-color: transparent;\n",
              "      border-bottom-color: var(--fill-color);\n",
              "    }\n",
              "  }\n",
              "</style>\n",
              "\n",
              "  <script>\n",
              "    async function quickchart(key) {\n",
              "      const quickchartButtonEl =\n",
              "        document.querySelector('#' + key + ' button');\n",
              "      quickchartButtonEl.disabled = true;  // To prevent multiple clicks.\n",
              "      quickchartButtonEl.classList.add('colab-df-spinner');\n",
              "      try {\n",
              "        const charts = await google.colab.kernel.invokeFunction(\n",
              "            'suggestCharts', [key], {});\n",
              "      } catch (error) {\n",
              "        console.error('Error during call to suggestCharts:', error);\n",
              "      }\n",
              "      quickchartButtonEl.classList.remove('colab-df-spinner');\n",
              "      quickchartButtonEl.classList.add('colab-df-quickchart-complete');\n",
              "    }\n",
              "    (() => {\n",
              "      let quickchartButtonEl =\n",
              "        document.querySelector('#df-30c31d81-9cee-485a-9c37-9340881164a2 button');\n",
              "      quickchartButtonEl.style.display =\n",
              "        google.colab.kernel.accessAllowed ? 'block' : 'none';\n",
              "    })();\n",
              "  </script>\n",
              "</div>\n",
              "\n",
              "    </div>\n",
              "  </div>\n"
            ],
            "application/vnd.google.colaboratory.intrinsic+json": {
              "type": "dataframe",
              "variable_name": "df",
              "summary": "{\n  \"name\": \"df\",\n  \"rows\": 20000,\n  \"fields\": [\n    {\n      \"column\": \"Revenue\",\n      \"properties\": {\n        \"dtype\": \"number\",\n        \"std\": 200448.52709543204,\n        \"min\": -284480.05,\n        \"max\": 1395816.85,\n        \"num_unique_values\": 19997,\n        \"samples\": [\n          467992.27,\n          586900.53,\n          585663.34\n        ],\n        \"semantic_type\": \"\",\n        \"description\": \"\"\n      }\n    },\n    {\n      \"column\": \"Expenses\",\n      \"properties\": {\n        \"dtype\": \"number\",\n        \"std\": 205594.46745943106,\n        \"min\": -527771.98,\n        \"max\": 1160946.39,\n        \"num_unique_values\": 19997,\n        \"samples\": [\n          278691.53,\n          363024.13,\n          320887.96\n        ],\n        \"semantic_type\": \"\",\n        \"description\": \"\"\n      }\n    },\n    {\n      \"column\": \"Profit\",\n      \"properties\": {\n        \"dtype\": \"number\",\n        \"std\": 49897.60283009408,\n        \"min\": -23280.19,\n        \"max\": 386391.67,\n        \"num_unique_values\": 19982,\n        \"samples\": [\n          189532.85,\n          89117.67,\n          128650.59\n        ],\n        \"semantic_type\": \"\",\n        \"description\": \"\"\n      }\n    },\n    {\n      \"column\": \"Assets\",\n      \"properties\": {\n        \"dtype\": \"number\",\n        \"std\": 402021.84955698403,\n        \"min\": -718156.39,\n        \"max\": 2498151.69,\n        \"num_unique_values\": 20000,\n        \"samples\": [\n          1042772.76,\n          785022.49,\n          957065.14\n        ],\n        \"semantic_type\": \"\",\n        \"description\": \"\"\n      }\n    },\n    {\n      \"column\": \"Liabilities\",\n      \"properties\": {\n        \"dtype\": \"number\",\n        \"std\": 320951.639752143,\n        \"min\": -315355.12,\n        \"max\": 1931261.72,\n        \"num_unique_values\": 19999,\n        \"samples\": [\n          749412.33,\n          507665.47,\n          668410.66\n        ],\n        \"semantic_type\": \"\",\n        \"description\": \"\"\n      }\n    },\n    {\n      \"column\": \"Debt_Ratio\",\n      \"properties\": {\n        \"dtype\": \"number\",\n        \"std\": 0.23176940152611736,\n        \"min\": 0.1,\n        \"max\": 0.9,\n        \"num_unique_values\": 81,\n        \"samples\": [\n          0.19,\n          0.26,\n          0.8\n        ],\n        \"semantic_type\": \"\",\n        \"description\": \"\"\n      }\n    },\n    {\n      \"column\": \"Market_Cap\",\n      \"properties\": {\n        \"dtype\": \"number\",\n        \"std\": 5013748.038583023,\n        \"min\": -8525750.04,\n        \"max\": 29148910.86,\n        \"num_unique_values\": 20000,\n        \"samples\": [\n          10219074.63,\n          3118921.1,\n          6859514.55\n        ],\n        \"semantic_type\": \"\",\n        \"description\": \"\"\n      }\n    },\n    {\n      \"column\": \"Share_Price\",\n      \"properties\": {\n        \"dtype\": \"number\",\n        \"std\": 49.896117362368365,\n        \"min\": -39.13,\n        \"max\": 360.1,\n        \"num_unique_values\": 12318,\n        \"samples\": [\n          162.28,\n          128.4,\n          180.07\n        ],\n        \"semantic_type\": \"\",\n        \"description\": \"\"\n      }\n    },\n    {\n      \"column\": \"Industry\",\n      \"properties\": {\n        \"dtype\": \"category\",\n        \"num_unique_values\": 5,\n        \"samples\": [\n          \"Finance\",\n          \"Technology\",\n          \"Manufacturing\"\n        ],\n        \"semantic_type\": \"\",\n        \"description\": \"\"\n      }\n    },\n    {\n      \"column\": \"Region\",\n      \"properties\": {\n        \"dtype\": \"category\",\n        \"num_unique_values\": 5,\n        \"samples\": [\n          \"Africa\",\n          \"North America\",\n          \"South America\"\n        ],\n        \"semantic_type\": \"\",\n        \"description\": \"\"\n      }\n    },\n    {\n      \"column\": \"Company_Size\",\n      \"properties\": {\n        \"dtype\": \"category\",\n        \"num_unique_values\": 3,\n        \"samples\": [\n          \"Large\",\n          \"Small\",\n          \"Medium\"\n        ],\n        \"semantic_type\": \"\",\n        \"description\": \"\"\n      }\n    },\n    {\n      \"column\": \"Listing_Status\",\n      \"properties\": {\n        \"dtype\": \"category\",\n        \"num_unique_values\": 2,\n        \"samples\": [\n          \"Listed\",\n          \"Private\"\n        ],\n        \"semantic_type\": \"\",\n        \"description\": \"\"\n      }\n    }\n  ]\n}"
            }
          },
          "metadata": {},
          "execution_count": 13
        }
      ]
    },
    {
      "cell_type": "code",
      "source": [
        "# Display basic information about the dataset\n",
        "print(df.info())"
      ],
      "metadata": {
        "id": "7uFEd-84Z3Sm",
        "outputId": "34afc36a-aaeb-470d-f480-6cd2f1090a6f",
        "colab": {
          "base_uri": "https://localhost:8080/"
        }
      },
      "execution_count": null,
      "outputs": [
        {
          "output_type": "stream",
          "name": "stdout",
          "text": [
            "<class 'pandas.core.frame.DataFrame'>\n",
            "RangeIndex: 20000 entries, 0 to 19999\n",
            "Data columns (total 12 columns):\n",
            " #   Column          Non-Null Count  Dtype  \n",
            "---  ------          --------------  -----  \n",
            " 0   Revenue         20000 non-null  float64\n",
            " 1   Expenses        20000 non-null  float64\n",
            " 2   Profit          20000 non-null  float64\n",
            " 3   Assets          20000 non-null  float64\n",
            " 4   Liabilities     20000 non-null  float64\n",
            " 5   Debt_Ratio      20000 non-null  float64\n",
            " 6   Market_Cap      20000 non-null  float64\n",
            " 7   Share_Price     20000 non-null  float64\n",
            " 8   Industry        20000 non-null  object \n",
            " 9   Region          20000 non-null  object \n",
            " 10  Company_Size    20000 non-null  object \n",
            " 11  Listing_Status  20000 non-null  object \n",
            "dtypes: float64(8), object(4)\n",
            "memory usage: 1.8+ MB\n",
            "None\n"
          ]
        }
      ]
    },
    {
      "cell_type": "code",
      "source": [
        "# Display summary statistics for numerical columns\n",
        "print(df.describe())"
      ],
      "metadata": {
        "id": "5Tj-YyHiaUzM",
        "outputId": "c6f6dac4-9851-4290-876e-c0f4f05600bf",
        "colab": {
          "base_uri": "https://localhost:8080/"
        }
      },
      "execution_count": null,
      "outputs": [
        {
          "output_type": "stream",
          "name": "stdout",
          "text": [
            "            Revenue      Expenses         Profit        Assets   Liabilities  \\\n",
            "count  2.000000e+04  2.000000e+04   20000.000000  2.000000e+04  2.000000e+04   \n",
            "mean   5.011398e+05  3.016407e+05  199499.143892  1.001656e+06  4.998975e+05   \n",
            "std    2.004485e+05  2.055945e+05   49897.602830  4.020218e+05  3.209516e+05   \n",
            "min   -2.844800e+05 -5.277720e+05  -23280.190000 -7.181564e+05 -3.153551e+05   \n",
            "25%    3.667446e+05  1.629290e+05  165070.520000  7.323767e+05  2.404339e+05   \n",
            "50%    5.015401e+05  3.006901e+05  199638.300000  1.003682e+06  4.407860e+05   \n",
            "75%    6.363814e+05  4.398163e+05  233580.432500  1.275389e+06  7.070500e+05   \n",
            "max    1.395817e+06  1.160946e+06  386391.670000  2.498152e+06  1.931262e+06   \n",
            "\n",
            "         Debt_Ratio    Market_Cap   Share_Price  \n",
            "count  20000.000000  2.000000e+04  20000.000000  \n",
            "mean       0.498537  1.003194e+07    150.207966  \n",
            "std        0.231769  5.013748e+06     49.896117  \n",
            "min        0.100000 -8.525750e+06    -39.130000  \n",
            "25%        0.300000  6.671334e+06    117.007500  \n",
            "50%        0.500000  1.002127e+07    150.445000  \n",
            "75%        0.700000  1.339624e+07    183.802500  \n",
            "max        0.900000  2.914891e+07    360.100000  \n"
          ]
        }
      ]
    },
    {
      "cell_type": "code",
      "source": [
        "import pandas as pd\n",
        "import numpy as np\n",
        "from sklearn.preprocessing import StandardScaler\n",
        "\n",
        "# Load dataset (replace 'your_file.csv' with the actual file)\n",
        "df = pd.read_csv('Finance_Accounting_Dataset.csv')\n",
        "\n",
        "# Select only numerical columns\n",
        "num_cols = df.select_dtypes(include=[np.number]).columns\n",
        "\n",
        "# Handle missing values\n",
        "df[num_cols] = df[num_cols].fillna(df[num_cols].median())  # Fill NaNs with median values\n",
        "\n",
        "# Remove outliers using IQR method\n",
        "Q1 = df[num_cols].quantile(0.25)\n",
        "Q3 = df[num_cols].quantile(0.75)\n",
        "IQR = Q3 - Q1\n",
        "df = df[~((df[num_cols] < (Q1 - 1.5 * IQR)) | (df[num_cols] > (Q3 + 1.5 * IQR))).any(axis=1)]\n",
        "\n",
        "# Convert data types (ensure numerical columns are correctly formatted)\n",
        "df[num_cols] = df[num_cols].apply(pd.to_numeric, errors='coerce')\n",
        "\n",
        "# Normalize data (optional)\n",
        "scaler = StandardScaler()\n",
        "df[num_cols] = scaler.fit_transform(df[num_cols])\n",
        "\n",
        "# Save cleaned dataset\n",
        "df.to_csv('cleaned_data.csv', index=False)\n",
        "\n",
        "print(\"Data cleaning completed. Cleaned dataset saved as 'cleaned_data.csv'.\")\n"
      ],
      "metadata": {
        "colab": {
          "base_uri": "https://localhost:8080/"
        },
        "id": "JA4lQbar_iFD",
        "outputId": "c367dde0-564a-44f6-c79a-30425036d475"
      },
      "execution_count": 1,
      "outputs": [
        {
          "output_type": "stream",
          "name": "stdout",
          "text": [
            "Data cleaning completed. Cleaned dataset saved as 'cleaned_data.csv'.\n"
          ]
        }
      ]
    },
    {
      "cell_type": "code",
      "source": [
        "import pandas as pd\n",
        "import seaborn as sns\n",
        "import matplotlib.pyplot as plt\n",
        "\n",
        "# Load the dataset\n",
        "df = pd.read_csv(\"cleaned_data.csv\")\n",
        "\n",
        "# Create the bar chart\n",
        "sns.barplot(x=\"Region\", y=\"Profit\", data=df)\n",
        "\n",
        "# Customize the chart (optional)\n",
        "plt.title(\"Bar Chart of Region vs. Profit\")\n",
        "plt.xlabel(\"Region\")\n",
        "plt.ylabel(\"Profit\")\n",
        "plt.xticks(rotation=45, ha=\"right\")  # Rotate x-axis labels if needed\n",
        "\n",
        "# Display the chart\n",
        "plt.show()"
      ],
      "metadata": {
        "colab": {
          "base_uri": "https://localhost:8080/",
          "height": 540
        },
        "id": "cHCpD5sEN5iF",
        "outputId": "04d1a96f-9c3c-40dc-f201-84074cce965f"
      },
      "execution_count": 6,
      "outputs": [
        {
          "output_type": "display_data",
          "data": {
            "text/plain": [
              "<Figure size 640x480 with 1 Axes>"
            ],
            "image/png": "[encoded data removed]"
          },
          "metadata": {}
        }
      ]
    },
    {
      "cell_type": "code",
      "source": [
        "import pandas as pd\n",
        "import matplotlib.pyplot as plt\n",
        "\n",
        "# Load the dataset\n",
        "df = pd.read_csv(\"cleaned_data.csv\")\n",
        "\n",
        "# Define bins for Debt_Ratio distribution\n",
        "bins = [0, 0.25, 0.5, 0.75, 1]  # Customize bins as needed\n",
        "labels = ['Low', 'Moderate', 'High', 'Very High']\n",
        "\n",
        "# Categorize Debt_Ratio into bins\n",
        "df['Debt_Ratio_Category'] = pd.cut(df['Debt_Ratio'], bins=bins, labels=labels)\n",
        "\n",
        "# Calculate distribution of categories\n",
        "distribution = df['Debt_Ratio_Category'].value_counts()\n",
        "\n",
        "# Create the pie chart\n",
        "plt.pie(distribution.values, labels=distribution.index, autopct='%1.1f%%', startangle=90)\n",
        "plt.title('Debt Ratio Distribution')\n",
        "plt.axis('equal')  # Equal aspect ratio ensures that pie is drawn as a circle.\n",
        "plt.show()"
      ],
      "metadata": {
        "colab": {
          "base_uri": "https://localhost:8080/",
          "height": 428
        },
        "id": "lJ6EaomBO4be",
        "outputId": "978e4953-717c-4112-e2f5-f2e86b567941"
      },
      "execution_count": 3,
      "outputs": [
        {
          "output_type": "display_data",
          "data": {
            "text/plain": [
              "<Figure size 640x480 with 1 Axes>"
            ],
            "image/png": "[encoded data removed]"
          },
          "metadata": {}
        }
      ]
    },
    {
      "cell_type": "code",
      "source": [
        "import pandas as pd\n",
        "import seaborn as sns\n",
        "import matplotlib.pyplot as plt\n",
        "\n",
        "# Load the dataset\n",
        "df = pd.read_csv(\"cleaned_data.csv\")\n",
        "\n",
        "# Create the histogram\n",
        "sns.histplot(data=df, x=\"Share_Price\")\n",
        "\n",
        "# Customize the chart (optional)\n",
        "plt.title(\"Histogram of Share Price\")\n",
        "plt.xlabel(\"Share Price\")\n",
        "plt.ylabel(\"Frequency\")\n",
        "\n",
        "# Display the chart\n",
        "plt.show()"
      ],
      "metadata": {
        "colab": {
          "base_uri": "https://localhost:8080/",
          "height": 472
        },
        "id": "waqN9NFrPc0M",
        "outputId": "8ef746f2-c384-4630-8bec-07153cd87cfa"
      },
      "execution_count": 4,
      "outputs": [
        {
          "output_type": "display_data",
          "data": {
            "text/plain": [
              "<Figure size 640x480 with 1 Axes>"
            ],
            "image/png": "[encoded data removed]"
          },
          "metadata": {}
        }
      ]
    }
  ],
  "metadata": {
    "colab": {
      "provenance": []
    },
    "kernelspec": {
      "display_name": "Python 3",
      "name": "python3"
    }
  },
  "nbformat": 4,
  "nbformat_minor": 0
}